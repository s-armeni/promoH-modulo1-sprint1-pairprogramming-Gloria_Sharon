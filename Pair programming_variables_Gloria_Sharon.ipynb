{
 "cells": [
  {
   "cell_type": "code",
   "execution_count": 3,
   "metadata": {},
   "outputs": [],
   "source": [
    "# Cread tres variables numéricas de tipo integer (entero), llamadas de la siguiente forma: numero1 numero2 numero3\n",
    "\n",
    "numero1 = 6\n",
    "numero2 = 3\n",
    "numero3 = 10"
   ]
  },
  {
   "cell_type": "code",
   "execution_count": 4,
   "metadata": {},
   "outputs": [
    {
     "data": {
      "text/plain": [
       "False"
      ]
     },
     "execution_count": 4,
     "metadata": {},
     "output_type": "execute_result"
    }
   ],
   "source": [
    "# Utilizando los operadores lógicos:\n",
    "\n",
    "# En vuestro caso, es el numero1 mayor que el numero2\n",
    "\n",
    "numero1 > numero2\n"
   ]
  },
  {
   "cell_type": "code",
   "execution_count": 25,
   "metadata": {},
   "outputs": [
    {
     "data": {
      "text/plain": [
       "False"
      ]
     },
     "execution_count": 25,
     "metadata": {},
     "output_type": "execute_result"
    }
   ],
   "source": [
    "# Es el numero1 menor que el numero2 pero mayor que el numero3\n",
    "\n",
    "numero2 < numero1 > numero3"
   ]
  },
  {
   "cell_type": "code",
   "execution_count": 7,
   "metadata": {},
   "outputs": [
    {
     "data": {
      "text/plain": [
       "False"
      ]
     },
     "execution_count": 7,
     "metadata": {},
     "output_type": "execute_result"
    }
   ],
   "source": [
    "# Es el numero3 igual que el numero2\n",
    "\n",
    "numero3 == numero2"
   ]
  },
  {
   "cell_type": "code",
   "execution_count": 8,
   "metadata": {},
   "outputs": [
    {
     "data": {
      "text/plain": [
       "True"
      ]
     },
     "execution_count": 8,
     "metadata": {},
     "output_type": "execute_result"
    }
   ],
   "source": [
    "# Es el numero2 distinto que el numero1\n",
    "\n",
    "numero2 != numero1"
   ]
  },
  {
   "cell_type": "code",
   "execution_count": 23,
   "metadata": {},
   "outputs": [
    {
     "name": "stdout",
     "output_type": "stream",
     "text": [
      "3.33\n",
      "0.07000000000000006\n",
      "0.07000000000000006\n",
      "1.0429447852760736\n"
     ]
    },
    {
     "data": {
      "text/plain": [
       "1.0"
      ]
     },
     "execution_count": 23,
     "metadata": {},
     "output_type": "execute_result"
    }
   ],
   "source": [
    "altura1 = 1.70\n",
    "altura2 = 1.63\n",
    "\n",
    "# Cuál es la suma de las dos alturas\n",
    "\n",
    "altura_total = altura1 + altura2\n",
    "print(altura_total)\n",
    "\n",
    "# Cuál es la diferencia de las dos alturas\n",
    "\n",
    "altura_diferencia = altura1 - altura2\n",
    "print(altura_diferencia)\n",
    "\n",
    "# Cuál es el resto de la división de las dos alturas\n",
    "\n",
    "altura_resto = altura1 % altura2\n",
    "print(altura_resto)\n",
    "\n",
    "# Cuál es resultado de la división de las dos alturas, redondead el resultado a un decimal.\n",
    "\n",
    "altura_division = altura1 / altura2\n",
    "print(altura_division)\n",
    "\n",
    "round(altura_division, 1)"
   ]
  },
  {
   "cell_type": "code",
   "execution_count": 32,
   "metadata": {},
   "outputs": [
    {
     "name": "stdout",
     "output_type": "stream",
     "text": [
      "Mi nombre completo es ana rossi\n",
      "ANA ROSSI\n",
      "ana rossi\n",
      "Ana Rossi\n",
      "Ana rossi\n"
     ]
    }
   ],
   "source": [
    "# Escribid un programa usando la función input() que le pregunte al usuario su nombre y apellidos. Una vez que tengamos el nombre del usuario:\n",
    "\n",
    "nombre_completo_usuario = input('Ingrese su nombre y apellidos')\n",
    "print('Mi nombre completo es', nombre_completo_usuario)\n",
    "\n",
    "# Printead su nombre y apellidos todo en mayúsculas\n",
    "\n",
    "print(nombre_completo_usuario.upper())\n",
    "\n",
    "# Printead su nombre y apellidos todo en minúsculas\n",
    "\n",
    "print(nombre_completo_usuario.lower())\n",
    "\n",
    "# Printead su nombre y apellidos con la primera letra del nombre y los apellidos en mayúscula y el resto en minúscula.\n",
    "\n",
    "print(nombre_completo_usuario.title())\n",
    "\n",
    "# Printeas solo la primera letra del nombre en mayúscula.\n",
    "\n",
    "print(nombre_completo_usuario.capitalize())"
   ]
  }
 ],
 "metadata": {
  "kernelspec": {
   "display_name": "base",
   "language": "python",
   "name": "python3"
  },
  "language_info": {
   "codemirror_mode": {
    "name": "ipython",
    "version": 3
   },
   "file_extension": ".py",
   "mimetype": "text/x-python",
   "name": "python",
   "nbconvert_exporter": "python",
   "pygments_lexer": "ipython3",
   "version": "3.9.undefined"
  }
 },
 "nbformat": 4,
 "nbformat_minor": 2
}
