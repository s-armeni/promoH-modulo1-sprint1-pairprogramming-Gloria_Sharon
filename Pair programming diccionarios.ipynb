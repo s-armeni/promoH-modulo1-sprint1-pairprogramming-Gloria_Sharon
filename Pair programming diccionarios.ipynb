{
 "cells": [
  {
   "cell_type": "code",
   "execution_count": 2,
   "metadata": {},
   "outputs": [
    {
     "data": {
      "text/plain": [
       "dict"
      ]
     },
     "execution_count": 2,
     "metadata": {},
     "output_type": "execute_result"
    }
   ],
   "source": [
    "#1\n",
    "\n",
    "dict1 = {}\n",
    "type(dict1)\n"
   ]
  },
  {
   "cell_type": "code",
   "execution_count": 2,
   "metadata": {},
   "outputs": [],
   "source": [
    "#2\n",
    "\n",
    "animales = {\"ave\": 1, \"perro\": 3, \"gato\": 6, \"vaca\": 8, \"burro\": 10}"
   ]
  },
  {
   "cell_type": "code",
   "execution_count": 39,
   "metadata": {},
   "outputs": [
    {
     "data": {
      "text/plain": [
       "dict"
      ]
     },
     "execution_count": 39,
     "metadata": {},
     "output_type": "execute_result"
    }
   ],
   "source": [
    "type(animales)"
   ]
  },
  {
   "cell_type": "code",
   "execution_count": 40,
   "metadata": {},
   "outputs": [
    {
     "data": {
      "text/plain": [
       "1"
      ]
     },
     "execution_count": 40,
     "metadata": {},
     "output_type": "execute_result"
    }
   ],
   "source": [
    "#3 usando get\n",
    "\n",
    "animales.get(\"ave\")"
   ]
  },
  {
   "cell_type": "code",
   "execution_count": 44,
   "metadata": {},
   "outputs": [
    {
     "name": "stdout",
     "output_type": "stream",
     "text": [
      "numero de aves 1\n"
     ]
    }
   ],
   "source": [
    "#3 usando input\n",
    "\n",
    "print(\"numero de aves\", input(\"ave\"))"
   ]
  },
  {
   "cell_type": "code",
   "execution_count": 43,
   "metadata": {},
   "outputs": [
    {
     "data": {
      "text/plain": [
       "dict"
      ]
     },
     "execution_count": 43,
     "metadata": {},
     "output_type": "execute_result"
    }
   ],
   "source": [
    "type(animales)"
   ]
  },
  {
   "cell_type": "code",
   "execution_count": 47,
   "metadata": {},
   "outputs": [
    {
     "name": "stdout",
     "output_type": "stream",
     "text": [
      "{'ave': 1, 'perro': 3, 'gato': 6, 'vaca': 8, 'burro': 10, 'caballo': 7}\n"
     ]
    }
   ],
   "source": [
    "#4\n",
    "\n",
    "nuevo_animal = {\"caballo\": 7}\n",
    "animales.update(nuevo_animal)\n",
    "print(animales)"
   ]
  },
  {
   "cell_type": "code",
   "execution_count": 50,
   "metadata": {},
   "outputs": [
    {
     "data": {
      "text/plain": [
       "3"
      ]
     },
     "execution_count": 50,
     "metadata": {},
     "output_type": "execute_result"
    }
   ],
   "source": [
    "# Prueba\n",
    "palabra = input(\"dime tu animal favorito\")\n",
    "animales[palabra]"
   ]
  },
  {
   "cell_type": "code",
   "execution_count": 51,
   "metadata": {},
   "outputs": [
    {
     "data": {
      "text/plain": [
       "3"
      ]
     },
     "execution_count": 51,
     "metadata": {},
     "output_type": "execute_result"
    }
   ],
   "source": [
    "# Prueba\n",
    "animales[\"perro\"]"
   ]
  },
  {
   "cell_type": "code",
   "execution_count": 5,
   "metadata": {},
   "outputs": [
    {
     "name": "stdout",
     "output_type": "stream",
     "text": [
      "dict_keys(['ave', 'perro', 'gato', 'vaca', 'burro'])\n"
     ]
    }
   ],
   "source": [
    "#8\n",
    "\n",
    "print(animales.keys())\n"
   ]
  },
  {
   "cell_type": "code",
   "execution_count": 4,
   "metadata": {},
   "outputs": [
    {
     "name": "stdout",
     "output_type": "stream",
     "text": [
      "dict_values([1, 3, 6, 8, 10])\n"
     ]
    }
   ],
   "source": [
    "#9\n",
    "\n",
    "print(animales.values())"
   ]
  },
  {
   "cell_type": "code",
   "execution_count": 11,
   "metadata": {},
   "outputs": [
    {
     "name": "stdout",
     "output_type": "stream",
     "text": [
      "{5, 40, 10, 15, 50, 20, 55, 25, 60, 30}\n"
     ]
    }
   ],
   "source": [
    "# Ej.sets\n",
    "\n",
    "#6\n",
    "\n",
    "conjunto1 = {10, 20, 30, 40, 50, 60}\n",
    "\n",
    "conjunto2 = {5, 10, 15, 20, 25, 50, 55, 60}\n",
    "\n",
    "conjunto3 = conjunto1.union(conjunto2)\n",
    "\n",
    "print(conjunto3)"
   ]
  },
  {
   "cell_type": "code",
   "execution_count": 12,
   "metadata": {},
   "outputs": [
    {
     "name": "stdout",
     "output_type": "stream",
     "text": [
      "{50, 10, 20, 60}\n"
     ]
    }
   ],
   "source": [
    "# 7\n",
    "\n",
    "conjunto4 = conjunto1.intersection(conjunto2)\n",
    "\n",
    "print(conjunto4)"
   ]
  },
  {
   "cell_type": "code",
   "execution_count": 13,
   "metadata": {},
   "outputs": [
    {
     "name": "stdout",
     "output_type": "stream",
     "text": [
      "{40, 30}\n"
     ]
    }
   ],
   "source": [
    "# 8\n",
    "\n",
    "conjunto5 = conjunto1.difference(conjunto2)\n",
    "\n",
    "print(conjunto5)"
   ]
  },
  {
   "cell_type": "code",
   "execution_count": 15,
   "metadata": {},
   "outputs": [
    {
     "name": "stdout",
     "output_type": "stream",
     "text": [
      "False\n"
     ]
    }
   ],
   "source": [
    "# 9\n",
    "\n",
    "conjunto6 = conjunto2.issubset(conjunto1)\n",
    "\n",
    "print(conjunto6)"
   ]
  }
 ],
 "metadata": {
  "kernelspec": {
   "display_name": "base",
   "language": "python",
   "name": "python3"
  },
  "language_info": {
   "codemirror_mode": {
    "name": "ipython",
    "version": 3
   },
   "file_extension": ".py",
   "mimetype": "text/x-python",
   "name": "python",
   "nbconvert_exporter": "python",
   "pygments_lexer": "ipython3",
   "version": "3.9.7"
  }
 },
 "nbformat": 4,
 "nbformat_minor": 2
}
