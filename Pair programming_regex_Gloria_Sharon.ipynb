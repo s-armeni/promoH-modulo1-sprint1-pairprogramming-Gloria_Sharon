{
 "cells": [
  {
   "cell_type": "code",
   "execution_count": 23,
   "metadata": {},
   "outputs": [
    {
     "name": "stdout",
     "output_type": "stream",
     "text": [
      "(123) 456-7890 178-1890-733 (555) 238-1987 (123) 4560-7890 (ABC) 098-1111\n",
      "['(123) 456-7890', '(555) 238-1987']\n"
     ]
    }
   ],
   "source": [
    "\n",
    "import re\n",
    "\n",
    "telefonos = [\"(123) 456-7890\", \"178-1890-733\", \"(555) 238-1987\", \"(123) 4560-7890\", \"(ABC) 098-1111\"]\n",
    "\n",
    "telefonos2 = \" \".join(telefonos)\n",
    "print(telefonos2)\n",
    "\n",
    "patron = r\"\\(\\d{3}\\) \\d{3}-\\d{4}\"\n",
    "\n",
    "coincidencia = re.findall(patron, telefonos2)\n",
    "\n",
    "print(coincidencia)\n"
   ]
  },
  {
   "cell_type": "code",
   "execution_count": null,
   "metadata": {},
   "outputs": [],
   "source": [
    "texto = \"Mi correo es user@example.com. Contacta conmigo en john.doe@email.com\"\n"
   ]
  }
 ],
 "metadata": {
  "kernelspec": {
   "display_name": "base",
   "language": "python",
   "name": "python3"
  },
  "language_info": {
   "codemirror_mode": {
    "name": "ipython",
    "version": 3
   },
   "file_extension": ".py",
   "mimetype": "text/x-python",
   "name": "python",
   "nbconvert_exporter": "python",
   "pygments_lexer": "ipython3",
   "version": "3.9.7"
  }
 },
 "nbformat": 4,
 "nbformat_minor": 2
}
