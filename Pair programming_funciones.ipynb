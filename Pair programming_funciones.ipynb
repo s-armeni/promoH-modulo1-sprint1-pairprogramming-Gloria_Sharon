{
 "cells": [
  {
   "cell_type": "code",
   "execution_count": 6,
   "metadata": {},
   "outputs": [
    {
     "data": {
      "text/plain": [
       "{'nombre': 'Sharon', 'edad': 30, 'ciudad': 'Madrid'}"
      ]
     },
     "execution_count": 6,
     "metadata": {},
     "output_type": "execute_result"
    }
   ],
   "source": [
    "#Ej. 9\n",
    "\n",
    "def crear_persona(**kwargs):\n",
    "    datos_persona = {}\n",
    "    for clave, valor in kwargs.items():\n",
    "        datos_persona[clave]=valor\n",
    "    \n",
    "    return(datos_persona)\n",
    "\n",
    "crear_persona(nombre=\"Sharon\", edad=30, ciudad=\"Madrid\")"
   ]
  },
  {
   "cell_type": "code",
   "execution_count": 22,
   "metadata": {},
   "outputs": [
    {
     "name": "stdout",
     "output_type": "stream",
     "text": [
      "El elemento 3 está duplicado\n"
     ]
    },
    {
     "data": {
      "text/plain": [
       "3"
      ]
     },
     "execution_count": 22,
     "metadata": {},
     "output_type": "execute_result"
    }
   ],
   "source": [
    "#Ej. 11\n",
    "\n",
    "def encontrar_duplicado(lista_numeros_enteros):\n",
    "    \n",
    "    for i in lista_numeros_enteros:\n",
    "        \n",
    "        if lista_numeros_enteros.count(i)>1:\n",
    "            elemento_duplicado = i\n",
    "            print(f\"El elemento {i} está duplicado\")\n",
    "            break\n",
    "\n",
    "    return(elemento_duplicado)\n",
    "\n",
    "encontrar_duplicado([1,2,3,4,3])\n",
    "\n"
   ]
  },
  {
   "cell_type": "code",
   "execution_count": null,
   "metadata": {},
   "outputs": [],
   "source": []
  }
 ],
 "metadata": {
  "kernelspec": {
   "display_name": "base",
   "language": "python",
   "name": "python3"
  },
  "language_info": {
   "codemirror_mode": {
    "name": "ipython",
    "version": 3
   },
   "file_extension": ".py",
   "mimetype": "text/x-python",
   "name": "python",
   "nbconvert_exporter": "python",
   "pygments_lexer": "ipython3",
   "version": "3.9.7"
  }
 },
 "nbformat": 4,
 "nbformat_minor": 2
}
